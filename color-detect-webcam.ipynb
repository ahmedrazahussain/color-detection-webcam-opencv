{
 "cells": [
  {
   "cell_type": "code",
   "execution_count": 7,
   "id": "f8abc889-f1e7-498e-aef1-3da1439e3ed0",
   "metadata": {},
   "outputs": [],
   "source": [
    "import cv2 as cv\n",
    "import numpy as np\n",
    "\n",
    "cv.namedWindow('cam')\n",
    "\n",
    "def nothing(x):\n",
    "    pass\n",
    "\n",
    "cv.createTrackbar('l_h', 'cam', 0, 179, nothing)\n",
    "cv.createTrackbar('l_s', 'cam', 0, 255, nothing)\n",
    "cv.createTrackbar('l_v', 'cam', 0, 255, nothing)\n",
    "\n",
    "cv.createTrackbar('u_h', 'cam', 255, 255, nothing)\n",
    "cv.createTrackbar('u_s', 'cam', 255, 255, nothing)\n",
    "cv.createTrackbar('u_v', 'cam', 255, 255, nothing)\n",
    "\n",
    "cap = cv.VideoCapture(1)\n",
    "\n",
    "while True:\n",
    "    r, frame = cap.read()\n",
    "    if r == True:\n",
    "        hsv = cv.cvtColor(frame, cv.COLOR_BGR2HSV)\n",
    "\n",
    "        h1 = cv.getTrackbarPos('l_h', 'cam')\n",
    "        s1 = cv.getTrackbarPos('l_s', 'cam')\n",
    "        v1 = cv.getTrackbarPos('l_v', 'cam')\n",
    "\n",
    "        h2 = cv.getTrackbarPos('u_h', 'cam')\n",
    "        s2 = cv.getTrackbarPos('u_s', 'cam')\n",
    "        v2 = cv.getTrackbarPos('u_v', 'cam')\n",
    "\n",
    "        low = np.array([h1,s1,v1])\n",
    "        upr = np.array([h2,s2,v2])\n",
    "\n",
    "        mask = cv.inRange(hsv, low, upr)\n",
    "\n",
    "        res = cv.bitwise_and(frame, frame, mask = mask)\n",
    "\n",
    "        cv.imshow('mask', mask)\n",
    "        cv.imshow('cam', res)\n",
    "\n",
    "        if cv.waitKey(1) & 0xff == ord('z'):\n",
    "            break\n",
    "\n",
    "cap.release()\n",
    "cv.destroyAllWindows()"
   ]
  }
 ],
 "metadata": {
  "kernelspec": {
   "display_name": "Python 3 (ipykernel)",
   "language": "python",
   "name": "python3"
  },
  "language_info": {
   "codemirror_mode": {
    "name": "ipython",
    "version": 3
   },
   "file_extension": ".py",
   "mimetype": "text/x-python",
   "name": "python",
   "nbconvert_exporter": "python",
   "pygments_lexer": "ipython3",
   "version": "3.13.2"
  }
 },
 "nbformat": 4,
 "nbformat_minor": 5
}
